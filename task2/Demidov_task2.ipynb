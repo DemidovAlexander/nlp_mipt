{
 "cells": [
  {
   "cell_type": "code",
   "execution_count": 1,
   "metadata": {
    "collapsed": false
   },
   "outputs": [
    {
     "data": {
      "text/html": [
       "<div>\n",
       "<table border=\"1\" class=\"dataframe\">\n",
       "  <thead>\n",
       "    <tr style=\"text-align: right;\">\n",
       "      <th></th>\n",
       "      <th>Id</th>\n",
       "      <th>DocNumber</th>\n",
       "      <th>MetadataSubject</th>\n",
       "      <th>MetadataTo</th>\n",
       "      <th>MetadataFrom</th>\n",
       "      <th>SenderPersonId</th>\n",
       "      <th>MetadataDateSent</th>\n",
       "      <th>MetadataDateReleased</th>\n",
       "      <th>MetadataPdfLink</th>\n",
       "      <th>MetadataCaseNumber</th>\n",
       "      <th>...</th>\n",
       "      <th>ExtractedTo</th>\n",
       "      <th>ExtractedFrom</th>\n",
       "      <th>ExtractedCc</th>\n",
       "      <th>ExtractedDateSent</th>\n",
       "      <th>ExtractedCaseNumber</th>\n",
       "      <th>ExtractedDocNumber</th>\n",
       "      <th>ExtractedDateReleased</th>\n",
       "      <th>ExtractedReleaseInPartOrFull</th>\n",
       "      <th>ExtractedBodyText</th>\n",
       "      <th>RawText</th>\n",
       "    </tr>\n",
       "  </thead>\n",
       "  <tbody>\n",
       "    <tr>\n",
       "      <th>0</th>\n",
       "      <td>1</td>\n",
       "      <td>C05739545</td>\n",
       "      <td>WOW</td>\n",
       "      <td>H</td>\n",
       "      <td>Sullivan, Jacob J</td>\n",
       "      <td>87</td>\n",
       "      <td>2012-09-12T04:00:00+00:00</td>\n",
       "      <td>2015-05-22T04:00:00+00:00</td>\n",
       "      <td>DOCUMENTS/HRC_Email_1_296/HRCH2/DOC_0C05739545...</td>\n",
       "      <td>F-2015-04841</td>\n",
       "      <td>...</td>\n",
       "      <td>NaN</td>\n",
       "      <td>Sullivan, Jacob J &lt;Sullivan11@state.gov&gt;</td>\n",
       "      <td>NaN</td>\n",
       "      <td>Wednesday, September 12, 2012 10:16 AM</td>\n",
       "      <td>F-2015-04841</td>\n",
       "      <td>C05739545</td>\n",
       "      <td>05/13/2015</td>\n",
       "      <td>RELEASE IN FULL</td>\n",
       "      <td>NaN</td>\n",
       "      <td>UNCLASSIFIED\\nU.S. Department of State\\nCase N...</td>\n",
       "    </tr>\n",
       "    <tr>\n",
       "      <th>1</th>\n",
       "      <td>2</td>\n",
       "      <td>C05739546</td>\n",
       "      <td>H: LATEST: HOW SYRIA IS AIDING QADDAFI AND MOR...</td>\n",
       "      <td>H</td>\n",
       "      <td>NaN</td>\n",
       "      <td>NaN</td>\n",
       "      <td>2011-03-03T05:00:00+00:00</td>\n",
       "      <td>2015-05-22T04:00:00+00:00</td>\n",
       "      <td>DOCUMENTS/HRC_Email_1_296/HRCH1/DOC_0C05739546...</td>\n",
       "      <td>F-2015-04841</td>\n",
       "      <td>...</td>\n",
       "      <td>NaN</td>\n",
       "      <td>NaN</td>\n",
       "      <td>NaN</td>\n",
       "      <td>NaN</td>\n",
       "      <td>F-2015-04841</td>\n",
       "      <td>C05739546</td>\n",
       "      <td>05/13/2015</td>\n",
       "      <td>RELEASE IN PART</td>\n",
       "      <td>B6\\nThursday, March 3, 2011 9:45 PM\\nH: Latest...</td>\n",
       "      <td>UNCLASSIFIED\\nU.S. Department of State\\nCase N...</td>\n",
       "    </tr>\n",
       "    <tr>\n",
       "      <th>2</th>\n",
       "      <td>3</td>\n",
       "      <td>C05739547</td>\n",
       "      <td>CHRIS STEVENS</td>\n",
       "      <td>;H</td>\n",
       "      <td>Mills, Cheryl D</td>\n",
       "      <td>32</td>\n",
       "      <td>2012-09-12T04:00:00+00:00</td>\n",
       "      <td>2015-05-22T04:00:00+00:00</td>\n",
       "      <td>DOCUMENTS/HRC_Email_1_296/HRCH2/DOC_0C05739547...</td>\n",
       "      <td>F-2015-04841</td>\n",
       "      <td>...</td>\n",
       "      <td>B6</td>\n",
       "      <td>Mills, Cheryl D &lt;MillsCD@state.gov&gt;</td>\n",
       "      <td>Abedin, Huma</td>\n",
       "      <td>Wednesday, September 12, 2012 11:52 AM</td>\n",
       "      <td>F-2015-04841</td>\n",
       "      <td>C05739547</td>\n",
       "      <td>05/14/2015</td>\n",
       "      <td>RELEASE IN PART</td>\n",
       "      <td>Thx</td>\n",
       "      <td>UNCLASSIFIED\\nU.S. Department of State\\nCase N...</td>\n",
       "    </tr>\n",
       "    <tr>\n",
       "      <th>3</th>\n",
       "      <td>4</td>\n",
       "      <td>C05739550</td>\n",
       "      <td>CAIRO CONDEMNATION - FINAL</td>\n",
       "      <td>H</td>\n",
       "      <td>Mills, Cheryl D</td>\n",
       "      <td>32</td>\n",
       "      <td>2012-09-12T04:00:00+00:00</td>\n",
       "      <td>2015-05-22T04:00:00+00:00</td>\n",
       "      <td>DOCUMENTS/HRC_Email_1_296/HRCH2/DOC_0C05739550...</td>\n",
       "      <td>F-2015-04841</td>\n",
       "      <td>...</td>\n",
       "      <td>NaN</td>\n",
       "      <td>Mills, Cheryl D &lt;MillsCD@state.gov&gt;</td>\n",
       "      <td>Mitchell, Andrew B</td>\n",
       "      <td>Wednesday, September 12,2012 12:44 PM</td>\n",
       "      <td>F-2015-04841</td>\n",
       "      <td>C05739550</td>\n",
       "      <td>05/13/2015</td>\n",
       "      <td>RELEASE IN PART</td>\n",
       "      <td>NaN</td>\n",
       "      <td>UNCLASSIFIED\\nU.S. Department of State\\nCase N...</td>\n",
       "    </tr>\n",
       "    <tr>\n",
       "      <th>4</th>\n",
       "      <td>5</td>\n",
       "      <td>C05739554</td>\n",
       "      <td>H: LATEST: HOW SYRIA IS AIDING QADDAFI AND MOR...</td>\n",
       "      <td>Abedin, Huma</td>\n",
       "      <td>H</td>\n",
       "      <td>80</td>\n",
       "      <td>2011-03-11T05:00:00+00:00</td>\n",
       "      <td>2015-05-22T04:00:00+00:00</td>\n",
       "      <td>DOCUMENTS/HRC_Email_1_296/HRCH1/DOC_0C05739554...</td>\n",
       "      <td>F-2015-04841</td>\n",
       "      <td>...</td>\n",
       "      <td>NaN</td>\n",
       "      <td>NaN</td>\n",
       "      <td>NaN</td>\n",
       "      <td>NaN</td>\n",
       "      <td>F-2015-04841</td>\n",
       "      <td>C05739554</td>\n",
       "      <td>05/13/2015</td>\n",
       "      <td>RELEASE IN PART</td>\n",
       "      <td>H &lt;hrod17@clintonemail.com&gt;\\nFriday, March 11,...</td>\n",
       "      <td>B6\\nUNCLASSIFIED\\nU.S. Department of State\\nCa...</td>\n",
       "    </tr>\n",
       "  </tbody>\n",
       "</table>\n",
       "<p>5 rows × 22 columns</p>\n",
       "</div>"
      ],
      "text/plain": [
       "   Id  DocNumber                                    MetadataSubject  \\\n",
       "0   1  C05739545                                                WOW   \n",
       "1   2  C05739546  H: LATEST: HOW SYRIA IS AIDING QADDAFI AND MOR...   \n",
       "2   3  C05739547                                      CHRIS STEVENS   \n",
       "3   4  C05739550                         CAIRO CONDEMNATION - FINAL   \n",
       "4   5  C05739554  H: LATEST: HOW SYRIA IS AIDING QADDAFI AND MOR...   \n",
       "\n",
       "     MetadataTo       MetadataFrom  SenderPersonId           MetadataDateSent  \\\n",
       "0             H  Sullivan, Jacob J              87  2012-09-12T04:00:00+00:00   \n",
       "1             H                NaN             NaN  2011-03-03T05:00:00+00:00   \n",
       "2            ;H    Mills, Cheryl D              32  2012-09-12T04:00:00+00:00   \n",
       "3             H    Mills, Cheryl D              32  2012-09-12T04:00:00+00:00   \n",
       "4  Abedin, Huma                  H              80  2011-03-11T05:00:00+00:00   \n",
       "\n",
       "        MetadataDateReleased  \\\n",
       "0  2015-05-22T04:00:00+00:00   \n",
       "1  2015-05-22T04:00:00+00:00   \n",
       "2  2015-05-22T04:00:00+00:00   \n",
       "3  2015-05-22T04:00:00+00:00   \n",
       "4  2015-05-22T04:00:00+00:00   \n",
       "\n",
       "                                     MetadataPdfLink MetadataCaseNumber  \\\n",
       "0  DOCUMENTS/HRC_Email_1_296/HRCH2/DOC_0C05739545...       F-2015-04841   \n",
       "1  DOCUMENTS/HRC_Email_1_296/HRCH1/DOC_0C05739546...       F-2015-04841   \n",
       "2  DOCUMENTS/HRC_Email_1_296/HRCH2/DOC_0C05739547...       F-2015-04841   \n",
       "3  DOCUMENTS/HRC_Email_1_296/HRCH2/DOC_0C05739550...       F-2015-04841   \n",
       "4  DOCUMENTS/HRC_Email_1_296/HRCH1/DOC_0C05739554...       F-2015-04841   \n",
       "\n",
       "                         ...                         ExtractedTo  \\\n",
       "0                        ...                                 NaN   \n",
       "1                        ...                                 NaN   \n",
       "2                        ...                                  B6   \n",
       "3                        ...                                 NaN   \n",
       "4                        ...                                 NaN   \n",
       "\n",
       "                              ExtractedFrom         ExtractedCc  \\\n",
       "0  Sullivan, Jacob J <Sullivan11@state.gov>                 NaN   \n",
       "1                                       NaN                 NaN   \n",
       "2       Mills, Cheryl D <MillsCD@state.gov>        Abedin, Huma   \n",
       "3       Mills, Cheryl D <MillsCD@state.gov>  Mitchell, Andrew B   \n",
       "4                                       NaN                 NaN   \n",
       "\n",
       "                        ExtractedDateSent ExtractedCaseNumber  \\\n",
       "0  Wednesday, September 12, 2012 10:16 AM        F-2015-04841   \n",
       "1                                     NaN        F-2015-04841   \n",
       "2  Wednesday, September 12, 2012 11:52 AM        F-2015-04841   \n",
       "3   Wednesday, September 12,2012 12:44 PM        F-2015-04841   \n",
       "4                                     NaN        F-2015-04841   \n",
       "\n",
       "  ExtractedDocNumber ExtractedDateReleased ExtractedReleaseInPartOrFull  \\\n",
       "0          C05739545            05/13/2015              RELEASE IN FULL   \n",
       "1          C05739546            05/13/2015              RELEASE IN PART   \n",
       "2          C05739547            05/14/2015              RELEASE IN PART   \n",
       "3          C05739550            05/13/2015              RELEASE IN PART   \n",
       "4          C05739554            05/13/2015              RELEASE IN PART   \n",
       "\n",
       "                                   ExtractedBodyText  \\\n",
       "0                                                NaN   \n",
       "1  B6\\nThursday, March 3, 2011 9:45 PM\\nH: Latest...   \n",
       "2                                                Thx   \n",
       "3                                                NaN   \n",
       "4  H <hrod17@clintonemail.com>\\nFriday, March 11,...   \n",
       "\n",
       "                                             RawText  \n",
       "0  UNCLASSIFIED\\nU.S. Department of State\\nCase N...  \n",
       "1  UNCLASSIFIED\\nU.S. Department of State\\nCase N...  \n",
       "2  UNCLASSIFIED\\nU.S. Department of State\\nCase N...  \n",
       "3  UNCLASSIFIED\\nU.S. Department of State\\nCase N...  \n",
       "4  B6\\nUNCLASSIFIED\\nU.S. Department of State\\nCa...  \n",
       "\n",
       "[5 rows x 22 columns]"
      ]
     },
     "execution_count": 1,
     "metadata": {},
     "output_type": "execute_result"
    }
   ],
   "source": [
    "import pandas as pd\n",
    "import numpy as np\n",
    "\n",
    "ds = pd.read_csv(\"dataset/Emails.csv\")\n",
    "ds.head()"
   ]
  },
  {
   "cell_type": "markdown",
   "metadata": {},
   "source": [
    "Для экспериментов используется только колонка \"RawText\". Из текстов удаляется пунктуация. Фильтруются токены, содержащие специальные символы, а так же имеющие длину менее двух символов."
   ]
  },
  {
   "cell_type": "code",
   "execution_count": 2,
   "metadata": {
    "collapsed": true
   },
   "outputs": [],
   "source": [
    "import string\n",
    "\n",
    "PUNCTUATION = \"!\\\"(),.:;?[]{}…“\"\n",
    "BAD_SYMBOLS = \"#$%&*+/<=>@\\^|~â©ñ¹_\" + string.digits\n",
    "\n",
    "\n",
    "def filtered(text):\n",
    "    for symbol in BAD_SYMBOLS:\n",
    "        if text.find(symbol) != -1 or len(text) < 2:\n",
    "            return ''\n",
    "\n",
    "    return text\n",
    "\n",
    "\n",
    "def transform_raw_texts(raw_texts):\n",
    "    transformed_texts = []\n",
    "    \n",
    "    for line in raw_texts:\n",
    "        transformed_line = \"\"\n",
    "        \n",
    "        for character in PUNCTUATION:\n",
    "            line = line.replace(character, \" \")\n",
    "\n",
    "        for word in line.strip('\\n').split():\n",
    "            filtered_word = filtered(word)\n",
    "\n",
    "            if filtered_word != '':\n",
    "                transformed_line += filtered_word.lower() + \" \"\n",
    "                \n",
    "        transformed_texts.append(transformed_line)\n",
    "\n",
    "    return transformed_texts"
   ]
  },
  {
   "cell_type": "code",
   "execution_count": 3,
   "metadata": {
    "collapsed": false
   },
   "outputs": [
    {
     "name": "stdout",
     "output_type": "stream",
     "text": [
      "7945\n"
     ]
    }
   ],
   "source": [
    "texts = transform_raw_texts(ds[\"RawText\"].tolist())\n",
    "\n",
    "tokens = []\n",
    "for text in texts:\n",
    "    tokens += text.split()\n",
    "\n",
    "print(len(texts))"
   ]
  },
  {
   "cell_type": "markdown",
   "metadata": {},
   "source": [
    "Найдем наиболее частотные биграммы"
   ]
  },
  {
   "cell_type": "code",
   "execution_count": 4,
   "metadata": {
    "collapsed": false
   },
   "outputs": [
    {
     "name": "stdout",
     "output_type": "stream",
     "text": [
      "[(('of', 'state'), 28129), (('department', 'of'), 27169), (('doc', 'no'), 26534), (('case', 'no'), 26527), (('state', 'case'), 26515), (('no', 'date'), 26510), (('unclassified', 'department'), 26509), (('no', 'doc'), 26508), (('of', 'the'), 14052), (('date', 'unclassified'), 12830), (('in', 'the'), 10284), (('release', 'in'), 7916), (('date', 'release'), 7501), (('original', 'message'), 7012), (('subject', 're'), 6728), (('to', 'the'), 6538), (('message', 'from'), 6115), (('pm', 'to'), 5613), (('on', 'the'), 5170), (('to', 'subject'), 4484)]\n"
     ]
    }
   ],
   "source": [
    "import collections\n",
    "from itertools import islice\n",
    "\n",
    "frequencies = collections.Counter(zip(tokens, islice(tokens, 1, None)))\n",
    "\n",
    "print(frequencies.most_common(20))"
   ]
  },
  {
   "cell_type": "markdown",
   "metadata": {},
   "source": [
    "Выделим коллокации из двух слов по PMI с помощью nltk"
   ]
  },
  {
   "cell_type": "code",
   "execution_count": 5,
   "metadata": {
    "collapsed": false
   },
   "outputs": [
    {
     "data": {
      "text/plain": [
       "[(\"''rn\", 'rince'),\n",
       " (\"''s\", 'pone'),\n",
       " (\"'--\", 'twatch'),\n",
       " (\"'alexandre\", \"carl'\"),\n",
       " (\"'amitabh\", \"desai'\"),\n",
       " (\"'baby\", \"steps'\"),\n",
       " (\"'badly\", \"trained'\"),\n",
       " (\"'baer\", 'danie'),\n",
       " (\"'barry\", \"keith'\"),\n",
       " (\"'beitler\", \"ady'\"),\n",
       " (\"'benderslw\", \"matias'\"),\n",
       " (\"'big\", \"bang'\"),\n",
       " (\"'brian'\", \"'brocking\"),\n",
       " (\"'brocking\", \"elisabeth'\"),\n",
       " (\"'buhl\", \"cindy'\"),\n",
       " (\"'chang\", \"benjamin'\"),\n",
       " (\"'cheer\", \"on'\"),\n",
       " (\"'civ\", \"cas'\"),\n",
       " (\"'confidence\", \"building'\"),\n",
       " (\"'damage\", \"limitation'\")]"
      ]
     },
     "execution_count": 5,
     "metadata": {},
     "output_type": "execute_result"
    }
   ],
   "source": [
    "import nltk\n",
    "from nltk.collocations import BigramAssocMeasures\n",
    "from nltk.collocations import BigramCollocationFinder\n",
    "\n",
    "bigram_measures = nltk.collocations.BigramAssocMeasures()\n",
    "\n",
    "finder = BigramCollocationFinder.from_words(tokens)\n",
    "finder.nbest(bigram_measures.pmi, 20)"
   ]
  },
  {
   "cell_type": "markdown",
   "metadata": {},
   "source": [
    "Определим общее количество различных слов (все эксперименты ниже будут использовать только униграммы)."
   ]
  },
  {
   "cell_type": "code",
   "execution_count": 6,
   "metadata": {
    "collapsed": false
   },
   "outputs": [
    {
     "name": "stdout",
     "output_type": "stream",
     "text": [
      "43930\n"
     ]
    }
   ],
   "source": [
    "from sklearn.feature_extraction.text import CountVectorizer\n",
    "\n",
    "vectorizer = CountVectorizer()\n",
    "vectorizer.fit(texts)\n",
    "\n",
    "print(len(vectorizer.get_feature_names()))"
   ]
  },
  {
   "cell_type": "markdown",
   "metadata": {},
   "source": [
    "Необходим отбор наиболее значимых признаков. В качестве примера можно предложить схему отбора ключевых слов, описанную в статьях: \n",
    "\n",
    "1) Serge Sharoff. Classifying Web corpora into domain and genre using automatic feature identification. In Proc. ofWeb as CorpusWorkshop, Louvain-la-Neuve, 2007.\n",
    "\n",
    "2) Serge Sharoff. Measuring the distance between comparable corpora between languages. In Serge Sharoff, Reinhard Rapp, Pierre Zweigenbaum, and Pascale Fung, editors, BUCC: Building and Using Comparable Corpora, pp. 113–129, Springer, 2013.\n",
    "\n",
    "Для начала убираем некоторое количество наиболее частотных слов, считая их стоп словами. Затем для каждого текста выделяем набор ключевых слов с помощью критерия log-likelihood score (в экспериментах ниже пороговое значение = 10,83 для уровня значимости 0.001). Использование log-likelihood score связано с его лучшей устойчивостью на низкочастотных признаках (менее пяти вхождений).\n",
    "\n",
    "Реализация, которая находится в следующей секции была мной написана существенно ранее, прошу прощения за возможную избыточность кода."
   ]
  },
  {
   "cell_type": "code",
   "execution_count": 7,
   "metadata": {
    "collapsed": false
   },
   "outputs": [],
   "source": [
    "from math import log\n",
    "\n",
    "def log_likelihood(a, b, c, d):\n",
    "    if a == 0 or b == 0 or c == 0 or d == 0:\n",
    "        return 0\n",
    "\n",
    "    return 2 * (a * log(a) + b * log(b) + c * log(c) + d * log(d) + (a + b + c + d) * log(a + b + c + d) -\n",
    "                (a + b) * log(a + b) - (a + c) * log(a + c) - (b + d) * log(b + d) - (c + d) * log(c + d))\n",
    "\n",
    "def add_word_to_dict(current_dict, word):\n",
    "    if word == '':\n",
    "        return\n",
    "\n",
    "    if current_dict.get(word) is None:\n",
    "        current_dict[word] = 1\n",
    "    else:\n",
    "        current_dict[word] += 1\n",
    "\n",
    "\n",
    "def add_text_to_dict(current_dict, text):\n",
    "    for token in text.split():\n",
    "        if current_dict.get(token) is None:\n",
    "            current_dict[token] = 1\n",
    "        else:\n",
    "            current_dict[token] += 1\n",
    "\n",
    "\n",
    "def reduce_lexicon_dimension(current_dict, stop_words_number):\n",
    "    words = sorted(current_dict.items(), key=lambda x: -x[1])\n",
    "\n",
    "    return {item[0]: item[1] for item in words[stop_words_number:]}, \\\n",
    "           {item[0]: item[1] for item in words[:stop_words_number]}\n",
    "\n",
    "\n",
    "def current_text_keywords(current_text_dict, normative_dict, total_number_of_words, stop_words_dict, ll_score_threshold):\n",
    "    for word in stop_words_dict:\n",
    "        current_text_dict.pop(word, None)\n",
    "\n",
    "    current_number_of_words = sum(current_text_dict.values())\n",
    "\n",
    "    current_scores_dict = {}\n",
    "    for word in current_text_dict:\n",
    "        ll_score = log_likelihood(current_text_dict[word],\n",
    "                                  normative_dict[word],\n",
    "                                  current_number_of_words - current_text_dict[word],\n",
    "                                  total_number_of_words - normative_dict[word])\n",
    "\n",
    "        if ll_score >= ll_score_threshold:\n",
    "            current_scores_dict[word] = ll_score\n",
    "\n",
    "    return [item[0] for item in sorted(current_scores_dict.items(), key=lambda x: -x[1])]\n",
    "\n",
    "\n",
    "def build_normative_dict(texts):\n",
    "    result_dict = {}\n",
    "    \n",
    "    for text in texts:\n",
    "        add_text_to_dict(result_dict, text)\n",
    "\n",
    "    return result_dict\n",
    "\n",
    "\n",
    "def get_keywords(texts, ll_score_threshold, normative_dict, stop_words_dict,\n",
    "                 total_number_of_words, lexicon_dimension):\n",
    "\n",
    "    keywords_dict = {}\n",
    "\n",
    "    for text in texts:\n",
    "        current_text_dict = {}\n",
    "        add_text_to_dict(current_text_dict, text)\n",
    "\n",
    "        current_keywords = current_text_keywords(current_text_dict, normative_dict, total_number_of_words,\n",
    "                                                 stop_words_dict, ll_score_threshold)\n",
    "\n",
    "        for word in current_keywords:\n",
    "            add_word_to_dict(keywords_dict, word)\n",
    "\n",
    "    return set([item[0] for item in sorted(keywords_dict.items(), key=lambda x: -x[1])[:lexicon_dimension]])\n",
    "\n",
    "\n",
    "def extract_features(texts, keywords_vector_dimension, stop_words_num, lexicon_dimension, ll_score_threshold):\n",
    "\n",
    "    normative_dict = build_normative_dict(texts)\n",
    "    normative_dict, stop_words_dict = reduce_lexicon_dimension(normative_dict, stop_words_num)\n",
    "    total_number_of_words = sum(normative_dict.values())\n",
    "    \n",
    "    keywords = get_keywords(texts, ll_score_threshold, normative_dict,\n",
    "                            stop_words_dict, total_number_of_words, lexicon_dimension)\n",
    "    \n",
    "    keywords_for_texts = []\n",
    "    \n",
    "    for text in texts:\n",
    "        current_text_dict = {}\n",
    "        add_text_to_dict(current_text_dict, text)\n",
    "\n",
    "        raw_current_keywords = current_text_keywords(current_text_dict, normative_dict, total_number_of_words,\n",
    "                                                     stop_words_dict, ll_score_threshold)\n",
    "\n",
    "        current_keywords = []\n",
    "\n",
    "        for keyword in raw_current_keywords:\n",
    "            if keyword in keywords:\n",
    "                 current_keywords.append(keyword)\n",
    "                    \n",
    "        keywords_for_text = \"\"\n",
    "        \n",
    "        for keyword in current_keywords[:keywords_vector_dimension]:\n",
    "            keywords_for_text += keyword + \" \"\n",
    "\n",
    "        keywords_for_texts.append(keywords_for_text)\n",
    "\n",
    "    return keywords_for_texts"
   ]
  },
  {
   "cell_type": "code",
   "execution_count": 8,
   "metadata": {
    "collapsed": true
   },
   "outputs": [],
   "source": [
    "from sklearn.cluster import KMeans\n",
    "from sklearn.cluster.hierarchical import AgglomerativeClustering\n",
    "\n",
    "def get_features_matrix(texts):\n",
    "    vectorizer = CountVectorizer()\n",
    "    matrix = vectorizer.fit_transform(texts)\n",
    "    \n",
    "    print(\"Vectorizer matrix shape: \" + str(matrix.shape))\n",
    "    \n",
    "    return matrix.toarray()\n",
    "\n",
    "def get_kmeans_clusters_map(texts, CLUSTERS_NUMBER):\n",
    "    model = KMeans(n_clusters=CLUSTERS_NUMBER, random_state=1)\n",
    "    return model.fit_predict(get_features_matrix(texts))\n",
    "\n",
    "def get_agglomerative_clusters_map(texts, CLUSTERS_NUMBER):\n",
    "    model = AgglomerativeClustering(n_clusters=CLUSTERS_NUMBER, affinity='euclidean', linkage='ward')\n",
    "    return model.fit_predict(get_features_matrix(texts))"
   ]
  },
  {
   "cell_type": "code",
   "execution_count": 9,
   "metadata": {
    "collapsed": true
   },
   "outputs": [],
   "source": [
    "def clusters_as_texts(texts, clusters_map, CLUSTERS_NUMBER):\n",
    "    clusters = [\"\" for i in range(CLUSTERS_NUMBER)]\n",
    "    \n",
    "    for i, text in enumerate(texts):\n",
    "        clusters[clusters_map[i]] += text + \" \"\n",
    "        \n",
    "    return clusters"
   ]
  },
  {
   "cell_type": "code",
   "execution_count": 10,
   "metadata": {
    "collapsed": false,
    "scrolled": true
   },
   "outputs": [],
   "source": [
    "STOP_WORDS_NUM = 50 # количество игнорируемых высокочастотных слов\n",
    "LEXICON_DIMENSION = 10000 # ограничение на длину вектора признаков\n",
    "LL_SCORE_THRESHOLD = 10.83\n",
    "CLUSTERS_NUMBER = 20\n",
    "\n",
    "keywords_for_texts = extract_features(texts, LEXICON_DIMENSION, STOP_WORDS_NUM, LEXICON_DIMENSION, LL_SCORE_THRESHOLD)"
   ]
  },
  {
   "cell_type": "code",
   "execution_count": 11,
   "metadata": {
    "collapsed": false
   },
   "outputs": [
    {
     "name": "stdout",
     "output_type": "stream",
     "text": [
      "Vectorizer matrix shape: (7945, 9351)\n"
     ]
    }
   ],
   "source": [
    "clusters_map = get_kmeans_clusters_map(keywords_for_texts, CLUSTERS_NUMBER)"
   ]
  },
  {
   "cell_type": "markdown",
   "metadata": {},
   "source": [
    "Примененный выше алгоритм отбора признаков подходит также для визуализации получаемых кластеров. Кластеры теперь считаются едиными текстами, для которых по log-likelihood score отбираются ключевые слова относительно всего корпуса."
   ]
  },
  {
   "cell_type": "code",
   "execution_count": 12,
   "metadata": {
    "collapsed": true
   },
   "outputs": [],
   "source": [
    "clusters = clusters_as_texts(texts, clusters_map, CLUSTERS_NUMBER)"
   ]
  },
  {
   "cell_type": "code",
   "execution_count": 13,
   "metadata": {
    "collapsed": false
   },
   "outputs": [
    {
     "name": "stdout",
     "output_type": "stream",
     "text": [
      "lona valmoro schedule huma abedin assistant mtg maggie special shuttle friday do direct conference lady sunday secretary ashton fri cc friends dinner may mon sep monday june sun yes roberta \n",
      "\n",
      "checking sep sun lisa she's abedin huma see philadelphia santa ---- nyc bilat arrangements aren't timing supposed seeing tha i'd cm \n",
      "\n",
      "heal fistula africa hospital goma congolese kay lyn kivu lusi congo warren mrs excellent volcano local based training north visit trained centre teaching hey patients actors maniema recognized boss through \n",
      "\n",
      "kids griot griots supply centers education up materials supplies get ramp-up 'school' some olds schools teaching anothter maybe each cheap their who quicker cart educational linked portable meal teachers stipend \n",
      "\n",
      "el-keib source militias belhaj ntc minister fighting sensitive individual opinion army jalil al-juwali western haftar firms national benghazi zintan produced militiamen believes select el-keib's redactions foia misrata comm according waiver \n",
      "\n",
      "anne-marie slaughter ideal smits jacob arc cc sullivan lissa rainforest reforestation model euro muscatine lovins amory water fa strategy qddr hectares maria greece american planning mills project director pak-india-bangl precious \n",
      "\n",
      "testimony draft barnard hearing latest review faxed suggestions epping vci jerome lodge start boese terri timbie edits herein gottemoeller button rosenberger limage accessible tuesday's stout everyone's wade sfrc version dave \n",
      "\n",
      "deal dup ireland northern guardian co power-sharing sinn policing unionist fein assembly devolved powers uup brava brown bravo belfast robinson justice unionists agreement party allister parades stormont chapter gordon mcguinness \n",
      "\n",
      "benghazi sensitive redactions foia comm waiver select produced dept information agreement house libya libyan magariaf source qaddafi attack intelligence egypt huma romney security stevens abedin western rice morsi question attacks \n",
      "\n",
      "saudi arabia kingdom saudis king religious islam its abdullah kaust kingdom's oil islamic arabia's long muslim society market basis pundits wisdom extremism world's qa'ida traditions riyadh freeman our puritanical sarasota \n",
      "\n",
      "pelletier depart drive mellott arrive pao mchale hotel dimartino kitty en concludes judith joe cpao michael route minutes mumbai delhi india usg corley kenna moriarty time lynne gadkowski center embassy \n",
      "\n",
      "news ecumenical patriarchate reuters turkish patriarch orthodox news-mahogany ap turkey istanbul http ergenekon church archons religious boehner media bomb greek disc asp police slipped christians bbc bartholomew kyrgyzstan akp newspaper \n",
      "\n",
      "our benghazi violence people indonesia redactions foia comm waiver select produced dept morocco states united chris agreement information sensitive world protect colleagues libya together violent tunisia thank glen young attack \n",
      "\n",
      "hanley monica pdb september saturday pouch dan mailto holder king --- sensitive redactions foia comm waiver select produced dept ---- fm benghazi agreement somali information items govj house memo imailto \n",
      "\n",
      "abushagur magariaf cabinet gnc individual nfa oil mps minister jcp libyan sensitive select prime conservative new tarhouni redactions foia comm waiver produced dept libya according italian jibril fears harroura jibril's \n",
      "\n",
      "misrata mangoush militias forces source nla ansar al zidan walid bani sharia fighting militia captured libyan magariaf haftar troops aqim commanders qamu sousa sensitive town according operations shahan shaban pro-qaddafi \n",
      "\n",
      "benghazi sensitive redactions select foia comm waiver produced dept agreement libya libyan magariaf valmoro information lona source house militias el-keib qaddafi patriarchate belhaj power-sharing ecumenical abushagur morsi western individual dup \n",
      "\n",
      "colombia colombian cindy uribe's alston paramilitary secretary uribe colombia's alvaro bogota buhl murders important brief pastoral memo positives extrajudicial cipcol defense impunity defenders prosecution posner prosecutors das cases false political \n",
      "\n",
      "jalil ntc libyan emb sowan lnp barqa nf national nfa source believes particularly control tribal gnc seats sensitive establish role jcp abdel fezzan election mohammed tripolitania according electoral elections leaders \n",
      "\n",
      "chinese china china's foreign-directed tanks public article zheng think relations discourse rise stage confrontation counterattack peaceful foreigners power passive influence opinion information siege media tank yan author injunction mosquitoes bide \n",
      "\n"
     ]
    }
   ],
   "source": [
    "KEYWORDS_VECTOR_DIMENSION = 30 # количество слов в выводе описания для кластера\n",
    "\n",
    "keywords_for_clusters = extract_features(clusters, KEYWORDS_VECTOR_DIMENSION, \n",
    "                                         STOP_WORDS_NUM, LEXICON_DIMENSION, LL_SCORE_THRESHOLD)\n",
    "\n",
    "for cluster_keywords in keywords_for_clusters:\n",
    "    print(cluster_keywords + '\\n')"
   ]
  },
  {
   "cell_type": "code",
   "execution_count": 14,
   "metadata": {
    "collapsed": true
   },
   "outputs": [],
   "source": [
    "def analyze_clusters(clusters_map, clusters_number):\n",
    "    number_of_documents = 0\n",
    "    clusters_consistency = [0 for i in range(clusters_number)]\n",
    "\n",
    "    for cluster in clusters_map:\n",
    "        clusters_consistency[int(cluster)] += 1\n",
    "        number_of_documents += 1\n",
    "\n",
    "    for i in range(clusters_number):\n",
    "        print(str(i) + ' ' + str(clusters_consistency[i]) + ' ' + str(clusters_consistency[i] / number_of_documents))"
   ]
  },
  {
   "cell_type": "code",
   "execution_count": 15,
   "metadata": {
    "collapsed": false,
    "scrolled": true
   },
   "outputs": [
    {
     "name": "stdout",
     "output_type": "stream",
     "text": [
      "0 213 0.026809314033983636\n",
      "1 2 0.0002517306482064191\n",
      "2 5 0.0006293266205160479\n",
      "3 2 0.0002517306482064191\n",
      "4 15 0.0018879798615481435\n",
      "5 111 0.013971050975456261\n",
      "6 3 0.0003775959723096287\n",
      "7 21 0.0026431718061674008\n",
      "8 120 0.015103838892385148\n",
      "9 3 0.0003775959723096287\n",
      "10 2 0.0002517306482064191\n",
      "11 177 0.022278162366268093\n",
      "12 2 0.0002517306482064191\n",
      "13 10 0.0012586532410320957\n",
      "14 3 0.0003775959723096287\n",
      "15 3 0.0003775959723096287\n",
      "16 7243 0.9116425424795469\n",
      "17 6 0.0007551919446192574\n",
      "18 2 0.0002517306482064191\n",
      "19 2 0.0002517306482064191\n"
     ]
    }
   ],
   "source": [
    "analyze_clusters(clusters_map, CLUSTERS_NUMBER)"
   ]
  },
  {
   "cell_type": "markdown",
   "metadata": {},
   "source": [
    "Имеем много маленьких кластеров и один существенно больший, чем все остальные, что можно считать одним из признаков низкого качества получаемой кластеризации."
   ]
  },
  {
   "cell_type": "markdown",
   "metadata": {},
   "source": [
    "Можно попытаться использовать какую-либо меру качества, не требующую наличия эталонной кластеризации. Для примера использую silhouette_score из sklearn, но немного меняю код, чтобы по значениям для всех сэмплов можно было посчитать не только среднее, как в исходной реализации, но и медиану.  "
   ]
  },
  {
   "cell_type": "code",
   "execution_count": 16,
   "metadata": {
    "collapsed": true
   },
   "outputs": [],
   "source": [
    "from sklearn.metrics import silhouette_samples\n",
    "from sklearn.utils import check_random_state\n",
    "\n",
    "def silhouette_score_for_samples(features, labels, metric='euclidean', sample_size=None, random_state=None, **kwds):\n",
    "    n_labels = len(np.unique(labels))\n",
    "    n_samples = features.shape[0]\n",
    "    if not 1 < n_labels < n_samples:\n",
    "        raise ValueError(\"Number of labels is %d. Valid values are 2 \"\n",
    "                         \"to n_samples - 1 (inclusive)\" % n_labels)\n",
    "\n",
    "    if sample_size is not None:\n",
    "        random_state = check_random_state(random_state)\n",
    "        indices = random_state.permutation(features.shape[0])[:sample_size]\n",
    "        if metric == \"precomputed\":\n",
    "            features, labels = features[indices].T[indices].T, labels[indices]\n",
    "        else:\n",
    "            features, labels = features[indices], labels[indices]\n",
    "    return silhouette_samples(features, labels, metric=metric, **kwds)"
   ]
  },
  {
   "cell_type": "code",
   "execution_count": 17,
   "metadata": {
    "collapsed": false
   },
   "outputs": [
    {
     "name": "stdout",
     "output_type": "stream",
     "text": [
      "Vectorizer matrix shape: (7945, 9351)\n",
      "-0.0183131416445 -0.0252192654352\n"
     ]
    }
   ],
   "source": [
    "samples_scores = silhouette_score_for_samples(get_features_matrix(keywords_for_texts), np.array(clusters_map), metric='cosine')\n",
    "print(str(np.mean(samples_scores)) + \" \" + str(np.median(samples_scores)))"
   ]
  },
  {
   "cell_type": "code",
   "execution_count": 18,
   "metadata": {
    "collapsed": false
   },
   "outputs": [
    {
     "data": {
      "image/png": "[encoded data removed]",
      "text/plain": [
       "<matplotlib.figure.Figure at 0x23725fd0>"
      ]
     },
     "metadata": {},
     "output_type": "display_data"
    }
   ],
   "source": [
    "from matplotlib import pyplot as plt\n",
    "\n",
    "%matplotlib inline\n",
    "\n",
    "def bar_chart_for_samples_scores(samples_scores):\n",
    "    plt.clf()\n",
    "    plt.title(\"Distribution of silhouette scores for samples\")\n",
    "    plt.xlabel(\"Silhouette scores \")\n",
    "    plt.ylabel(\"Samples number\")\n",
    "    plt.axis([-1, 1, 0, len(samples_scores)])\n",
    "\n",
    "    plt.hist(samples_scores, bins=50)\n",
    "\n",
    "    plt.show()\n",
    "\n",
    "bar_chart_for_samples_scores(samples_scores)"
   ]
  },
  {
   "cell_type": "markdown",
   "metadata": {},
   "source": [
    "Получаем отрицательные либо близкие к нулю значения. К сожалению, подсчет силуэта в данном случае нельзя считать свидетельством хорошего качества кластеризации."
   ]
  },
  {
   "cell_type": "markdown",
   "metadata": {},
   "source": [
    "Поставим точно такой же эксперимент для агломеративной кластеризации."
   ]
  },
  {
   "cell_type": "code",
   "execution_count": 19,
   "metadata": {
    "collapsed": false
   },
   "outputs": [
    {
     "name": "stdout",
     "output_type": "stream",
     "text": [
      "Vectorizer matrix shape: (7945, 9351)\n"
     ]
    }
   ],
   "source": [
    "clusters_map = get_agglomerative_clusters_map(keywords_for_texts, CLUSTERS_NUMBER)"
   ]
  },
  {
   "cell_type": "code",
   "execution_count": 20,
   "metadata": {
    "collapsed": true
   },
   "outputs": [],
   "source": [
    "clusters = clusters_as_texts(texts, clusters_map, CLUSTERS_NUMBER)"
   ]
  },
  {
   "cell_type": "code",
   "execution_count": 21,
   "metadata": {
    "collapsed": false
   },
   "outputs": [
    {
     "name": "stdout",
     "output_type": "stream",
     "text": [
      "huma abedin benghazi sullivan jacob sensitive call redactions comm select dept foia waiver cc produced mills gov' part libyan lauren secretary's full jiloty information libya haiti agreement schedule aug tomorrow \n",
      "\n",
      "huma abedin lauren call jiloty mashabane aug sat tomorrow do list oprah can wed fax ok cc update calls mubarak sheet sep oscar thu tue morning secure him thx august \n",
      "\n",
      "magariaf libyan source libya sensitive benghazi qaddafi select redactions foia comm waiver western produced dept information agreement al individual oil el according gnc abushagur believes forces cabinet egyptian islamist these \n",
      "\n",
      "benghazi redactions foia comm waiver select produced dept sensitive information agreement house romney libya stevens attack rice pdb monica hanley security september gregory consulate huma protests abedin intelligence libyan pouch \n",
      "\n",
      "koch huma abedin mills jewish tea boehner ecumenical patriarchate public orthodox cc sullivan fw jacob call party turkish charles kochs shall your full beck voters arabs patriarch fy af republican \n",
      "\n",
      "el-keib source jalil ntc militias belhaj sensitive minister individual fighting national army western libyan al-juwali believes opinion benghazi according produced haftar select firms forces zintan redactions foia comm waiver particularly \n",
      "\n",
      "goldman rio brazilian damour attorney handover bca marie kubiske court orna blum sean loh arola posivak culver mordica regan simpson heidi daisy cardiel hickey pacheco drucker milton martha decision david's \n",
      "\n",
      "valmoro lona schedule huma abedin mtg assistant maggie shuttle special see direct may do wh dinner yes mother's secretary gov' mon tomorrow fri part tuesday conf kristin -- sun video \n",
      "\n",
      "secretary's office room route arrive depart residence meeting private daily mini conference airport floor en schedule bilateral spray outer time treaty preceding jiloty staff white lauren photo briefing hotel tbd \n",
      "\n",
      "mills sullivan jacob part full fw cc gov' magariaf huma your tuesday abedin thursday depart benghazi wednesday israel friday source house verma richard thanks fyi me produced sensitive route select \n",
      "\n",
      "deal dup power-sharing guardian ireland co northern sinn devolved assembly unionist policing fein brava bravo brown powers robinson belfast agreement allister unionists chapter parades gordon party negotiations justice parties tuv \n",
      "\n",
      "en-us gov recipient's diagnostic microsoft e-mail received undeliverable washdc message-id address jan followup content-type x-originalarrivaltime x-ms-has-attach mime-version smtpsvc thread-index return-path headers esmtp redeliver content-transfer-encoding content-language mapi x-ms-tnef-correlator accept-language thread-topic system \n",
      "\n",
      "min presentation moderated questions minutes introduction team hrc answers permit retreat facilitator recognize respond per threat partnering opportunities agenda discussion cdm whitehaven approach appreciation coffee lew group tbd traditional note-taker \n",
      "\n",
      "berlin gate freedom symbol wall alliance brandenburg future revolution history open conflicts built speeches celebrate peoples europe turning berliner proud history's german struggle city free believed courageous zealots always dedication \n",
      "\n",
      "our benghazi violence people indonesia redactions foia comm waiver select produced dept morocco states united chris agreement information sensitive world protect colleagues libya together violent tunisia thank glen young attack \n",
      "\n",
      "davutoglu text turkey-armenia call aug sun huma kaidanow scanlon tina amy abedin philip gordon davu mceldowney nancy agree we've phil turks slovenia jacob sullivan word cc she's copy august armenians \n",
      "\n",
      "branch wjc gore had carter lewinsky hrc moynihan clinton wjc's reno gore's writes book her cvc about hrc's jesse whitewater thought branch's him rubin 'i portrayed life passage clause vernon \n",
      "\n",
      "senate senators dodd republicans republican corker chamber democrats udall senator filibuster alexander rules reform vote senate's floor amendments health-care mcconnell bill gregg debate majority mccaskill caucus bunning had amendment rule \n",
      "\n",
      "windrush ventures tony registered info limited email obl aclb lp broadway blair sep lynn messagelabs wales sullivan any london office viruses england sullivar forester aspen teddy rothschild best 'jake confidential \n",
      "\n",
      "chilcot inquiry whitehall sir blair invasion backdrop iraq saddam bush mandelson former ricketts memo week europeans meyer britain's tebbit generals manning mandarins guardian hoagland weapons war military co oxbridge-educated surge \n",
      "\n"
     ]
    }
   ],
   "source": [
    "keywords_for_clusters = extract_features(clusters, KEYWORDS_VECTOR_DIMENSION, \n",
    "                                         STOP_WORDS_NUM, LEXICON_DIMENSION, LL_SCORE_THRESHOLD)\n",
    "\n",
    "for cluster_keywords in keywords_for_clusters:\n",
    "    print(cluster_keywords + '\\n')"
   ]
  },
  {
   "cell_type": "code",
   "execution_count": 22,
   "metadata": {
    "collapsed": false
   },
   "outputs": [
    {
     "name": "stdout",
     "output_type": "stream",
     "text": [
      "0 1087 0.1368156073001888\n",
      "1 390 0.04908747640025173\n",
      "2 45 0.005663939584644431\n",
      "3 97 0.012208936438011329\n",
      "4 23 0.00289490245437382\n",
      "5 17 0.0021397105097545627\n",
      "6 5 0.0006293266205160479\n",
      "7 178 0.022404027690371302\n",
      "8 103 0.012964128382630585\n",
      "9 5906 0.7433606041535556\n",
      "10 17 0.0021397105097545627\n",
      "11 12 0.0015103838892385148\n",
      "12 7 0.000881057268722467\n",
      "13 7 0.000881057268722467\n",
      "14 2 0.0002517306482064191\n",
      "15 20 0.0025173064820641915\n",
      "16 3 0.0003775959723096287\n",
      "17 2 0.0002517306482064191\n",
      "18 14 0.001762114537444934\n",
      "19 10 0.0012586532410320957\n"
     ]
    }
   ],
   "source": [
    "analyze_clusters(clusters_map, CLUSTERS_NUMBER)"
   ]
  },
  {
   "cell_type": "code",
   "execution_count": 23,
   "metadata": {
    "collapsed": false
   },
   "outputs": [
    {
     "name": "stdout",
     "output_type": "stream",
     "text": [
      "Vectorizer matrix shape: (7945, 9351)\n",
      "-0.00977399877909 -0.0260238920186\n"
     ]
    }
   ],
   "source": [
    "samples_scores = silhouette_score_for_samples(get_features_matrix(keywords_for_texts), np.array(clusters_map), metric='cosine')\n",
    "print(str(np.mean(samples_scores)) + \" \" + str(np.median(samples_scores)))"
   ]
  },
  {
   "cell_type": "markdown",
   "metadata": {},
   "source": [
    "Ручная оценка качества может производиться по следующей схеме. Для случайной выборки текстов из каждого кластера асессор определяет долю текстов, не соответствующих автоматически составленному описанию кластера в виде ключевых слов с точки зрения того, как он склонен ее интерпретировать. Итоговое значение ошибки для группы таких асессоров находится как медиана их результатов."
   ]
  }
 ],
 "metadata": {
  "kernelspec": {
   "display_name": "Python 3",
   "language": "python",
   "name": "python3"
  },
  "language_info": {
   "codemirror_mode": {
    "name": "ipython",
    "version": 3
   },
   "file_extension": ".py",
   "mimetype": "text/x-python",
   "name": "python",
   "nbconvert_exporter": "python",
   "pygments_lexer": "ipython3",
   "version": "3.5.2"
  }
 },
 "nbformat": 4,
 "nbformat_minor": 0
}
