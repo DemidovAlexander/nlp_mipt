{
 "cells": [
  {
   "cell_type": "code",
   "execution_count": 1,
   "metadata": {
    "collapsed": true
   },
   "outputs": [],
   "source": [
    "import pandas as pd\n",
    "import numpy as np"
   ]
  },
  {
   "cell_type": "code",
   "execution_count": 2,
   "metadata": {
    "collapsed": false
   },
   "outputs": [],
   "source": [
    "ds = pd.read_csv(\"smsspamcollection/SMSSpamCollection\", \n",
    "                 delimiter=\"\\t\", names=(\"class_labels\", \"text\"))"
   ]
  },
  {
   "cell_type": "code",
   "execution_count": 3,
   "metadata": {
    "collapsed": false
   },
   "outputs": [
    {
     "data": {
      "text/html": [
       "<div>\n",
       "<table border=\"1\" class=\"dataframe\">\n",
       "  <thead>\n",
       "    <tr style=\"text-align: right;\">\n",
       "      <th></th>\n",
       "      <th>class_labels</th>\n",
       "      <th>text</th>\n",
       "    </tr>\n",
       "  </thead>\n",
       "  <tbody>\n",
       "    <tr>\n",
       "      <th>0</th>\n",
       "      <td>ham</td>\n",
       "      <td>Go until jurong point, crazy.. Available only ...</td>\n",
       "    </tr>\n",
       "    <tr>\n",
       "      <th>1</th>\n",
       "      <td>ham</td>\n",
       "      <td>Ok lar... Joking wif u oni...</td>\n",
       "    </tr>\n",
       "    <tr>\n",
       "      <th>2</th>\n",
       "      <td>spam</td>\n",
       "      <td>Free entry in 2 a wkly comp to win FA Cup fina...</td>\n",
       "    </tr>\n",
       "    <tr>\n",
       "      <th>3</th>\n",
       "      <td>ham</td>\n",
       "      <td>U dun say so early hor... U c already then say...</td>\n",
       "    </tr>\n",
       "    <tr>\n",
       "      <th>4</th>\n",
       "      <td>ham</td>\n",
       "      <td>Nah I don't think he goes to usf, he lives aro...</td>\n",
       "    </tr>\n",
       "  </tbody>\n",
       "</table>\n",
       "</div>"
      ],
      "text/plain": [
       "  class_labels                                               text\n",
       "0          ham  Go until jurong point, crazy.. Available only ...\n",
       "1          ham                      Ok lar... Joking wif u oni...\n",
       "2         spam  Free entry in 2 a wkly comp to win FA Cup fina...\n",
       "3          ham  U dun say so early hor... U c already then say...\n",
       "4          ham  Nah I don't think he goes to usf, he lives aro..."
      ]
     },
     "execution_count": 3,
     "metadata": {},
     "output_type": "execute_result"
    }
   ],
   "source": [
    "ds.head()"
   ]
  },
  {
   "cell_type": "code",
   "execution_count": 4,
   "metadata": {
    "collapsed": false
   },
   "outputs": [
    {
     "data": {
      "text/plain": [
       "ham     4825\n",
       "spam     747\n",
       "Name: class_labels, dtype: int64"
      ]
     },
     "execution_count": 4,
     "metadata": {},
     "output_type": "execute_result"
    }
   ],
   "source": [
    "ds.class_labels.value_counts()"
   ]
  },
  {
   "cell_type": "code",
   "execution_count": 5,
   "metadata": {
    "collapsed": true
   },
   "outputs": [],
   "source": [
    "X = np.array(ds.text)\n",
    "y = np.array(ds.class_labels == 'spam', dtype=int)"
   ]
  },
  {
   "cell_type": "code",
   "execution_count": 6,
   "metadata": {
    "collapsed": true
   },
   "outputs": [],
   "source": [
    "from sklearn.feature_extraction.text import CountVectorizer\n",
    "\n",
    "vectorizer = CountVectorizer()\n",
    "X_features = vectorizer.fit_transform(X)"
   ]
  },
  {
   "cell_type": "code",
   "execution_count": 7,
   "metadata": {
    "collapsed": false
   },
   "outputs": [
    {
     "name": "stdout",
     "output_type": "stream",
     "text": [
      "0.932640298361\n"
     ]
    }
   ],
   "source": [
    "from sklearn.linear_model import LogisticRegression\n",
    "from sklearn.model_selection import cross_val_score\n",
    "\n",
    "print(cross_val_score(LogisticRegression(), X_features, y, scoring=\"f1\", cv=10).mean())"
   ]
  },
  {
   "cell_type": "code",
   "execution_count": 8,
   "metadata": {
    "collapsed": true
   },
   "outputs": [],
   "source": [
    "to_predict = [\"FreeMsg: Txt: CALL to No: 86888 & claim your reward of 3 hours talk time to use from your phone now! Subscribe6GB\",\n",
    "              \"FreeMsg: Txt: claim your reward of 3 hours talk time\",\n",
    "              \"Have you visited the last lecture on physics?\",\n",
    "              \"Have you visited the last lecture on physics? Just buy this book and you will have all materials! Only 99$\",\n",
    "              \"Only 99$\"]\n",
    "\n",
    "to_predict = vectorizer.transform(to_predict)"
   ]
  },
  {
   "cell_type": "code",
   "execution_count": 9,
   "metadata": {
    "collapsed": false
   },
   "outputs": [
    {
     "name": "stdout",
     "output_type": "stream",
     "text": [
      "1 1 0 0 0\n"
     ]
    }
   ],
   "source": [
    "cls = LogisticRegression().fit(X_features, y)\n",
    "res = cls.predict(to_predict)\n",
    "\n",
    "print(*res)"
   ]
  },
  {
   "cell_type": "code",
   "execution_count": 10,
   "metadata": {
    "collapsed": false
   },
   "outputs": [
    {
     "name": "stdout",
     "output_type": "stream",
     "text": [
      "0.82 0.73 0.93 "
     ]
    }
   ],
   "source": [
    "results = []\n",
    "results.append(cross_val_score(LogisticRegression(), \n",
    "                               CountVectorizer(ngram_range=(2,2)).fit_transform(X), \n",
    "                               y, scoring=\"f1\", cv=10).mean())\n",
    "\n",
    "results.append(cross_val_score(LogisticRegression(), \n",
    "                               CountVectorizer(ngram_range=(3,3)).fit_transform(X),\n",
    "                               y, scoring=\"f1\", cv=10).mean())\n",
    "\n",
    "results.append(cross_val_score(LogisticRegression(), \n",
    "                               CountVectorizer(ngram_range=(1,3)).fit_transform(X), \n",
    "                               y, scoring=\"f1\", cv=10).mean())\n",
    "\n",
    "for res in results:\n",
    "    print(\"{0:.2f}\".format(res), end=' ')"
   ]
  },
  {
   "cell_type": "code",
   "execution_count": 11,
   "metadata": {
    "collapsed": false
   },
   "outputs": [
    {
     "name": "stdout",
     "output_type": "stream",
     "text": [
      "0.65 0.38 0.89 "
     ]
    }
   ],
   "source": [
    "from sklearn.naive_bayes import MultinomialNB\n",
    "\n",
    "results = []\n",
    "results.append(cross_val_score(MultinomialNB(), \n",
    "                               CountVectorizer(ngram_range=(2,2)).fit_transform(X), \n",
    "                               y, scoring=\"f1\", cv=10).mean())\n",
    "\n",
    "results.append(cross_val_score(MultinomialNB(), \n",
    "                               CountVectorizer(ngram_range=(3,3)).fit_transform(X), \n",
    "                               y, scoring=\"f1\", cv=10).mean())\n",
    "               \n",
    "results.append(cross_val_score(MultinomialNB(), \n",
    "                               CountVectorizer(ngram_range=(1,3)).fit_transform(X), \n",
    "                               y, scoring=\"f1\", cv=10).mean())\n",
    "               \n",
    "for res in results:\n",
    "    print(\"{0:.2f}\".format(res), end=' ')"
   ]
  },
  {
   "cell_type": "code",
   "execution_count": 12,
   "metadata": {
    "collapsed": false
   },
   "outputs": [
    {
     "name": "stdout",
     "output_type": "stream",
     "text": [
      "0.88\n"
     ]
    }
   ],
   "source": [
    "from sklearn.pipeline import Pipeline\n",
    "from sklearn.feature_extraction.text import TfidfVectorizer\n",
    "\n",
    "text_processing_pipeline = Pipeline([\n",
    "        ('Vectorizer', TfidfVectorizer()),\n",
    "        ('Classifier', LogisticRegression())\n",
    "    ])\n",
    "\n",
    "res = cross_val_score(text_processing_pipeline, X, y, scoring=\"f1\", cv=10).mean()\n",
    "print(\"{0:.2f}\".format(res))"
   ]
  },
  {
   "cell_type": "markdown",
   "metadata": {
    "collapsed": true
   },
   "source": [
    "Качество падает"
   ]
  },
  {
   "cell_type": "code",
   "execution_count": 13,
   "metadata": {
    "collapsed": false
   },
   "outputs": [
    {
     "name": "stdout",
     "output_type": "stream",
     "text": [
      "0.940425995066\n",
      "{'Classifier__C': 1000, 'Vectorizer__ngram_range': (1, 1)}\n"
     ]
    }
   ],
   "source": [
    "from sklearn.model_selection import GridSearchCV\n",
    "\n",
    "params_grid = {'Vectorizer__ngram_range': [(1,1), (1,2), (1,3), (2,2), (2,3), (3,3)],\n",
    "        'Classifier__C': [0.01, 0.1, 0.5, 1, 5, 10, 100, 200, 500, 1000, 2000]}\n",
    "\n",
    "text_processing_pipeline = Pipeline([\n",
    "        ('Vectorizer', CountVectorizer()),\n",
    "        ('Classifier', LogisticRegression())\n",
    "    ])\n",
    "\n",
    "res = GridSearchCV(text_processing_pipeline, params_grid, scoring='f1', cv=10, n_jobs=-1).fit(X, y)\n",
    "\n",
    "print(res.best_score_)\n",
    "print(res.best_params_)"
   ]
  },
  {
   "cell_type": "markdown",
   "metadata": {},
   "source": [
    "Вывод: модель с униграммами иногда оказывается лучше более сложных моделей."
   ]
  },
  {
   "cell_type": "code",
   "execution_count": 14,
   "metadata": {
    "collapsed": false
   },
   "outputs": [
    {
     "name": "stdout",
     "output_type": "stream",
     "text": [
      "0.955682590573\n",
      "{'Vectorizer__ngram_range': (1, 3), 'Classifier__alpha': 0.2}\n"
     ]
    }
   ],
   "source": [
    "params_grid = {'Vectorizer__ngram_range': [(1,1), (1,2), (1,3), (2,2), (2,3), (3,3)],\n",
    "               'Classifier__alpha': [0, 0.1, 0.2, 0.5, 1, 2, 5, 10]}\n",
    "\n",
    "text_processing_pipeline = Pipeline([\n",
    "        ('Vectorizer', CountVectorizer()),\n",
    "        ('Classifier', MultinomialNB())\n",
    "    ])\n",
    "\n",
    "res = GridSearchCV(text_processing_pipeline, params_grid, scoring='f1', cv=10).fit(X, y)\n",
    "\n",
    "print(res.best_score_)\n",
    "print(res.best_params_)"
   ]
  }
 ],
 "metadata": {
  "kernelspec": {
   "display_name": "Python 3",
   "language": "python",
   "name": "python3"
  },
  "language_info": {
   "codemirror_mode": {
    "name": "ipython",
    "version": 3
   },
   "file_extension": ".py",
   "mimetype": "text/x-python",
   "name": "python",
   "nbconvert_exporter": "python",
   "pygments_lexer": "ipython3",
   "version": "3.5.2"
  }
 },
 "nbformat": 4,
 "nbformat_minor": 0
}
